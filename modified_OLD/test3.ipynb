{
 "cells": [
  {
   "cell_type": "code",
   "execution_count": 1,
   "metadata": {},
   "outputs": [
    {
     "name": "stdout",
     "output_type": "stream",
     "text": [
      "init complete\n"
     ]
    }
   ],
   "source": [
    "from read_dat import *\n",
    "\n",
    "file = read_dat(r'../STNG.dat')"
   ]
  },
  {
   "cell_type": "code",
   "execution_count": 2,
   "metadata": {},
   "outputs": [
    {
     "name": "stderr",
     "output_type": "stream",
     "text": [
      "/home/mkidson/gitRepos/dDAQ_dev/modified_OLD/event.py:89: RuntimeWarning: invalid value encountered in scalar divide\n",
      "  return self.shortIntegral/self.longIntegral\n"
     ]
    }
   ],
   "source": [
    "L=[[],[]]\n",
    "S=[[],[]]\n",
    "for i in range(1000):#read 1000 events\n",
    "\tevent = file.read_event()\n",
    "\tfor j in range(len(event)): #per channel\n",
    "\t\tS[j].append(event[j].get_pulse_shape())\n",
    "\t\tL[j].append(event[j].get_long_integral())"
   ]
  },
  {
   "cell_type": "code",
   "execution_count": 3,
   "metadata": {},
   "outputs": [
    {
     "name": "stdout",
     "output_type": "stream",
     "text": [
      "Begin selection for cut 1\n",
      "1386.0887096774186 0.7067099567099567\n",
      "9324.596774193546 0.7743506493506495\n",
      "37802.4193548387 0.8041125541125542\n",
      "37802.4193548387 0.7472943722943723\n",
      "1008.0645161290322 0.5308441558441559\n",
      "756.0483870967746 0.6958874458874459\n",
      "End selection\n",
      "Begin selection for cut 2\n",
      "1008.0645161290322 0.7148268398268399\n",
      "9954.63709677419 0.7905844155844156\n",
      "35786.29032258063 0.8311688311688312\n",
      "34400.20161290321 0.8501082251082251\n",
      "1386.0887096774186 0.9772727272727274\n",
      "630.0403225806458 0.9772727272727274\n",
      "882.0564516129034 0.7175324675324676\n",
      "End selection\n",
      "Selections outputted to file: ../STNG_cuts_SL.csv\n"
     ]
    }
   ],
   "source": [
    "%matplotlib tk\n",
    "file.add_selections(L=L[0],S=S[0],mode=\"m\",file=\"STNG_cuts_SL.csv\")"
   ]
  },
  {
   "cell_type": "code",
   "execution_count": 4,
   "metadata": {},
   "outputs": [
    {
     "name": "stdout",
     "output_type": "stream",
     "text": [
      "0\n"
     ]
    }
   ],
   "source": [
    "L_neutrons, S_neutrons = file.select_events(L[0],S[0],cut_id = [0],inc=[-1], visual=True)\n"
   ]
  },
  {
   "cell_type": "code",
   "execution_count": 5,
   "metadata": {},
   "outputs": [
    {
     "name": "stdout",
     "output_type": "stream",
     "text": [
      "1\n"
     ]
    }
   ],
   "source": [
    "L_gammas, S_gammas = file.select_events(L[0],S[0],cut_id = [1],inc=[1], visual=True)"
   ]
  },
  {
   "cell_type": "code",
   "execution_count": 6,
   "metadata": {},
   "outputs": [],
   "source": [
    "cmap_r = cm.get_cmap(\"Blues_r\")\n"
   ]
  },
  {
   "cell_type": "code",
   "execution_count": 7,
   "metadata": {},
   "outputs": [],
   "source": [
    "plt.figure()     \n",
    "h, xedges, yedges,images= plt.hist2d(L[0],S[0],[256,256],[[0,40000],[0,1]],norm=colors.LogNorm(vmin=1),cmap=cmap_r)\n",
    "plt.xlabel(\"L[ch]\")\n",
    "plt.ylabel(\"S[ch]\")\n",
    "plt.show()\n",
    "#or without visual:\n",
    "# h, xedges, yedges = np.histogram2d(L,S,[256,256],[[0,40000],[0,1]])\n",
    "header = \"AmBe.dat SL [256,256] [[0,40000],[0,1]]\"\n",
    "np.savetxt(\"SL_AmBe_2dhist.txt\",h,header=header)\n"
   ]
  },
  {
   "cell_type": "code",
   "execution_count": 8,
   "metadata": {},
   "outputs": [],
   "source": [
    "plt.figure()\n",
    "n, bins, patches = plt.hist(L_neutrons,256,(0,40000))\n",
    "plt.xlabel(\"L[ch]\")\n",
    "plt.ylabel(\"Counts\")\n",
    "plt.show()\n",
    "#for without visual:\n",
    "n_g, bins_g = np.histogram(L_gammas,256,(0,40000))\n",
    "\n",
    "header = \"AmBe.dat L neutrons cut 0, bins 256, [0,40000]\\n L[ch]\\tCounts\"\n",
    "np.savetxt(\"SL_AmBe_1dL_neutrons.txt\",np.array([bins[:-1],n]).T,header=header)\n",
    "\n",
    "header = \"AmBe.dat L gammas cut 0, bins 256, [0,40000]\\n L[ch]\\tCounts\"\n",
    "np.savetxt(\"SL_AmBe_1dL_gammas.txt\",np.array([bins_g[:-1],n_g]).T,header=header)\n"
   ]
  },
  {
   "cell_type": "code",
   "execution_count": 9,
   "metadata": {},
   "outputs": [
    {
     "name": "stdout",
     "output_type": "stream",
     "text": [
      "Channel: 0\tEvents: 1000\tFails: 1.0\n",
      "tstart: 0.0\ttlong: 1.0\ttshort: 0.0\tintegral: 0.0\tt0: 0.0\n",
      "Channel: 1\tEvents: 1000\tFails: 7.0\n",
      "tstart: 7.0\ttlong: 0.0\ttshort: 0.0\tintegral: 0.0\tt0: 0.0\n"
     ]
    },
    {
     "data": {
      "text/plain": [
       "(array([[0., 1., 0., 0., 0.],\n",
       "        [7., 0., 0., 0., 0.],\n",
       "        [0., 0., 0., 0., 0.],\n",
       "        [0., 0., 0., 0., 0.],\n",
       "        [0., 0., 0., 0., 0.],\n",
       "        [0., 0., 0., 0., 0.],\n",
       "        [0., 0., 0., 0., 0.],\n",
       "        [0., 0., 0., 0., 0.]]),\n",
       " array([1., 7., 0., 0., 0., 0., 0., 0.]),\n",
       " 1000)"
      ]
     },
     "execution_count": 9,
     "metadata": {},
     "output_type": "execute_result"
    }
   ],
   "source": [
    "file.get_fails(display=True)\n"
   ]
  }
 ],
 "metadata": {
  "kernelspec": {
   "display_name": "base",
   "language": "python",
   "name": "python3"
  },
  "language_info": {
   "codemirror_mode": {
    "name": "ipython",
    "version": 3
   },
   "file_extension": ".py",
   "mimetype": "text/x-python",
   "name": "python",
   "nbconvert_exporter": "python",
   "pygments_lexer": "ipython3",
   "version": "3.9.15"
  },
  "orig_nbformat": 4,
  "vscode": {
   "interpreter": {
    "hash": "392d317fb9525d10d9582299775423e327aad078f9a1e9c1e0ded1cd8fd2d8a3"
   }
  }
 },
 "nbformat": 4,
 "nbformat_minor": 2
}
