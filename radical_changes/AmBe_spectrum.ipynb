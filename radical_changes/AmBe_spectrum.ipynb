{
 "cells": [
  {
   "cell_type": "code",
   "execution_count": 1,
   "metadata": {},
   "outputs": [],
   "source": [
    "import matplotlib.pyplot as plt\n",
    "import numpy as np\n",
    "from read_dat import *\n",
    "from scipy.optimize import curve_fit\n",
    "\n",
    "def gaussian(x, mu, sigma, A):\n",
    "    return (A*(1/(sigma*np.sqrt(2*np.pi)))*np.exp(-(1/2)*((x-mu)/sigma)**2))"
   ]
  },
  {
   "cell_type": "code",
   "execution_count": 2,
   "metadata": {},
   "outputs": [],
   "source": [
    "calibration = [0.00010230476254145869, 0.012454430536400718]"
   ]
  },
  {
   "cell_type": "code",
   "execution_count": 3,
   "metadata": {},
   "outputs": [
    {
     "name": "stdout",
     "output_type": "stream",
     "text": [
      "init complete\n"
     ]
    }
   ],
   "source": [
    "dat_file = read_dat('../Data/AmBe.dat', align_method='max')\n"
   ]
  },
  {
   "cell_type": "code",
   "execution_count": 4,
   "metadata": {},
   "outputs": [
    {
     "name": "stdout",
     "output_type": "stream",
     "text": [
      "Selections Imported\n",
      "Polygons Created\n"
     ]
    }
   ],
   "source": [
    "%matplotlib tk\n",
    "# file.add_selections(L, S, mode='m')\n",
    "dat_file.add_selections(mode='p', file='AmBe_cuts.csv')"
   ]
  },
  {
   "cell_type": "code",
   "execution_count": 5,
   "metadata": {},
   "outputs": [
    {
     "name": "stdout",
     "output_type": "stream",
     "text": [
      "['../Data/AmBe channel 0, False events, cuts False']\n",
      "['L [ch]', 'S[ch]', 'T (trigger) [us]', 'baseline', 'pulse height [bits]']\n"
     ]
    }
   ],
   "source": [
    "file = open(f'AmBe_lst_out.csv', 'r')\n",
    "\n",
    "reader = csv.reader(file)\n",
    "\n",
    "head = next(reader, None)\n",
    "print(head)\n",
    "head = next(reader, None)\n",
    "print(head)\n",
    "\n",
    "L = []\n",
    "S = []\n",
    "\n",
    "for row in reader:\n",
    "    L.append(float(row[0]))\n",
    "    S.append(float(row[1]))\n",
    "\n",
    "L = np.array(L)\n",
    "S = np.array(S)"
   ]
  },
  {
   "cell_type": "code",
   "execution_count": 6,
   "metadata": {},
   "outputs": [],
   "source": [
    "cut_L, cut_S = dat_file.select_events(L, S, cut_id=[2], inc=[1])\n",
    "cut_L = calibration[0] * cut_L + calibration[1]"
   ]
  },
  {
   "cell_type": "code",
   "execution_count": 7,
   "metadata": {},
   "outputs": [],
   "source": [
    "plt.hist2d(cut_L, cut_S, [256,256], norm=colors.LogNorm(vmin=1))\n",
    "plt.xlabel('L (MeVee)')\n",
    "plt.ylabel('S')\n",
    "plt.colorbar(label='Counts')\n",
    "plt.show()"
   ]
  },
  {
   "cell_type": "code",
   "execution_count": 8,
   "metadata": {},
   "outputs": [],
   "source": [
    "all_S_hist, all_S_bins = np.histogram(cut_S[cut_L >= 0.1], bins='auto')\n",
    "\n",
    "# plt.hist(cut_S[cut_L >= 3000], bins='auto')\n",
    "\n",
    "plt.step(all_S_bins[:-1], all_S_hist)\n",
    "plt.xlabel('S')\n",
    "plt.ylabel('Counts')\n",
    "plt.title('Histogram of PSD parameter S for AmBe source (L >= 0.1)')\n",
    "plt.show()"
   ]
  },
  {
   "attachments": {},
   "cell_type": "markdown",
   "metadata": {},
   "source": [
    "# FoM by splitting simply along S value"
   ]
  },
  {
   "cell_type": "code",
   "execution_count": 9,
   "metadata": {},
   "outputs": [
    {
     "name": "stdout",
     "output_type": "stream",
     "text": [
      "[5.12587871e-01 5.88560019e-02 1.22787458e+03]\n",
      "[6.81191514e-01 2.63903350e-02 8.08750117e+02]\n"
     ]
    }
   ],
   "source": [
    "# Fake splits\n",
    "split_point_index = np.where(all_S_bins >= 0.61)[0][0]\n",
    "\n",
    "neutron_fit = curve_fit(gaussian, all_S_bins[:split_point_index], all_S_hist[:split_point_index], [1, 1, 1])\n",
    "gamma_fit = curve_fit(gaussian, all_S_bins[split_point_index:-1], all_S_hist[split_point_index:], [1, 1, 1])\n",
    "\n",
    "print(neutron_fit[0])\n",
    "print(gamma_fit[0])\n"
   ]
  },
  {
   "cell_type": "code",
   "execution_count": 10,
   "metadata": {},
   "outputs": [
    {
     "name": "stdout",
     "output_type": "stream",
     "text": [
      "Figure of Merit: 0.8416341801266856\n"
     ]
    }
   ],
   "source": [
    "FoM = np.abs(gamma_fit[0][0] - neutron_fit[0][0]) / (2.35 * gamma_fit[0][1] + 2.35 * neutron_fit[0][1])\n",
    "print(f'Figure of Merit: {FoM}')"
   ]
  },
  {
   "cell_type": "code",
   "execution_count": 11,
   "metadata": {},
   "outputs": [],
   "source": [
    "plt.step(all_S_bins[:-1], all_S_hist, label='data')\n",
    "\n",
    "plt.plot(all_S_bins[:split_point_index], gaussian(all_S_bins[:split_point_index], *neutron_fit[0]), label='neutron fit')\n",
    "plt.plot(all_S_bins[split_point_index:-1], gaussian(all_S_bins[split_point_index:-1], *gamma_fit[0]), label='gamma fit')\n",
    "\n",
    "plt.xlabel('S')\n",
    "plt.ylabel('Counts')\n",
    "plt.title(f'Histogram of PSD parameter S for AmBe source (L >= 0.1 MeVee)\\nFoM: {FoM:.5f}')\n",
    "plt.legend()\n",
    "\n",
    "plt.show()"
   ]
  },
  {
   "attachments": {},
   "cell_type": "markdown",
   "metadata": {},
   "source": [
    "# FoM splitting them by PSD cuts"
   ]
  },
  {
   "cell_type": "code",
   "execution_count": 12,
   "metadata": {},
   "outputs": [],
   "source": [
    "gamma_L, gamma_S = dat_file.select_events(L, S, cut_id=[1], inc=[1])\n",
    "gamma_L = calibration[0] * gamma_L + calibration[1]"
   ]
  },
  {
   "cell_type": "code",
   "execution_count": 13,
   "metadata": {},
   "outputs": [],
   "source": [
    "gamma_S_hist = np.histogram(gamma_S[gamma_L >= 0.1], bins='auto')\n",
    "\n",
    "plt.step(gamma_S_hist[1][:-1], gamma_S_hist[0])\n",
    "plt.show()\n"
   ]
  },
  {
   "cell_type": "code",
   "execution_count": 19,
   "metadata": {},
   "outputs": [],
   "source": [
    "neutron_L, neutron_S = dat_file.select_events(L, S, cut_id=[0], inc=[1], visual=True)\n",
    "neutron_L = calibration[0] * neutron_L + calibration[1]"
   ]
  },
  {
   "cell_type": "code",
   "execution_count": 15,
   "metadata": {},
   "outputs": [],
   "source": [
    "neutron_S_hist = np.histogram(neutron_S[neutron_L >= 0.1], bins='auto')\n",
    "\n",
    "plt.step(neutron_S_hist[1][:-1], neutron_S_hist[0])\n",
    "plt.show()\n"
   ]
  },
  {
   "cell_type": "code",
   "execution_count": 16,
   "metadata": {},
   "outputs": [],
   "source": [
    "popt_g, pcov_g = curve_fit(gaussian, gamma_S_hist[1][:-1], gamma_S_hist[0], [1, 1, 1])\n",
    "popt_n, pcov_n = curve_fit(gaussian, neutron_S_hist[1][:-1], neutron_S_hist[0], [1, 1, 1])"
   ]
  },
  {
   "cell_type": "code",
   "execution_count": 17,
   "metadata": {},
   "outputs": [
    {
     "name": "stdout",
     "output_type": "stream",
     "text": [
      "Figure of Merit: 0.9331560611008926\n"
     ]
    }
   ],
   "source": [
    "FoM_2 = np.abs(popt_g[0] - popt_n[0]) / (2.35 * popt_g[1] + 2.35 * popt_n[1])\n",
    "print(f'Figure of Merit: {FoM_2}')"
   ]
  },
  {
   "cell_type": "code",
   "execution_count": 18,
   "metadata": {},
   "outputs": [],
   "source": [
    "plt.step(gamma_S_hist[1][:-1], gamma_S_hist[0], label='gamma data')\n",
    "plt.step(neutron_S_hist[1][:-1], neutron_S_hist[0], label='neutron data')\n",
    "\n",
    "plt.plot(gamma_S_hist[1][:-1], gaussian(gamma_S_hist[1][:-1], *popt_g), label='gamma fit')\n",
    "plt.plot(neutron_S_hist[1][:-1], gaussian(neutron_S_hist[1][:-1], *popt_n), label='neutron fit')\n",
    "\n",
    "plt.xlabel('S')\n",
    "plt.ylabel('Counts')\n",
    "plt.title(f'Histogram of PSD parameter S for AmBe source (L >= 0.1 MeVee)\\nFoM: {FoM_2:.5f}')\n",
    "plt.legend()\n",
    "\n",
    "plt.show()\n",
    "\n"
   ]
  },
  {
   "attachments": {},
   "cell_type": "markdown",
   "metadata": {},
   "source": [
    "# AmBe neutron L spectrum"
   ]
  },
  {
   "cell_type": "code",
   "execution_count": 20,
   "metadata": {},
   "outputs": [],
   "source": [
    "plt.figure()\n",
    "plt.hist(neutron_L, bins='auto', histtype='step')\n",
    "plt.xlabel('L (MeVee)')\n",
    "plt.ylabel('Counts')\n",
    "plt.title('AmBe neutron light output spectrum')\n",
    "plt.semilogy()\n",
    "plt.show()"
   ]
  }
 ],
 "metadata": {
  "kernelspec": {
   "display_name": "base",
   "language": "python",
   "name": "python3"
  },
  "language_info": {
   "codemirror_mode": {
    "name": "ipython",
    "version": 3
   },
   "file_extension": ".py",
   "mimetype": "text/x-python",
   "name": "python",
   "nbconvert_exporter": "python",
   "pygments_lexer": "ipython3",
   "version": "3.9.15"
  },
  "orig_nbformat": 4,
  "vscode": {
   "interpreter": {
    "hash": "392d317fb9525d10d9582299775423e327aad078f9a1e9c1e0ded1cd8fd2d8a3"
   }
  }
 },
 "nbformat": 4,
 "nbformat_minor": 2
}
