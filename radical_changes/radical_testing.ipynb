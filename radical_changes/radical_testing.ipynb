{
 "cells": [
  {
   "cell_type": "code",
   "execution_count": 1,
   "metadata": {},
   "outputs": [
    {
     "name": "stdout",
     "output_type": "stream",
     "text": [
      "init complete\n"
     ]
    }
   ],
   "source": [
    "from read_dat import *\n",
    "from time import time\n",
    "import numpy as np\n",
    "\n",
    "\n",
    "file = read_dat('../STNG.dat')"
   ]
  },
  {
   "cell_type": "code",
   "execution_count": 2,
   "metadata": {},
   "outputs": [
    {
     "name": "stderr",
     "output_type": "stream",
     "text": [
      "/home/mkidson/gitRepos/dDAQ_dev/radical_changes/event.py:89: RuntimeWarning: invalid value encountered in scalar divide\n",
      "  return self.shortIntegral / self.longIntegral\n"
     ]
    }
   ],
   "source": [
    "L=[[],[]]\n",
    "S=[[],[]]\n",
    "for i in range(500):#read 500 events\n",
    "\tevent = file.read_event()\n",
    "\tfor j in range(len(event)): #per channel\n",
    "\t\tS[j].append(event[j].get_pulse_shape())\n",
    "\t\tL[j].append(event[j].get_long_integral())"
   ]
  },
  {
   "cell_type": "code",
   "execution_count": 3,
   "metadata": {},
   "outputs": [
    {
     "name": "stdout",
     "output_type": "stream",
     "text": [
      "Selections Imported\n",
      "Polygons Created\n"
     ]
    }
   ],
   "source": [
    "%matplotlib tk\n",
    "file.add_selections(mode='p', file='test_cuts.csv')"
   ]
  },
  {
   "cell_type": "code",
   "execution_count": 4,
   "metadata": {},
   "outputs": [],
   "source": [
    "cut_L, cut_S = file.select_events(L[0], S[0], cut_id=[0, 1], inc=[-1, 1], visual=True)"
   ]
  },
  {
   "cell_type": "code",
   "execution_count": 3,
   "metadata": {},
   "outputs": [
    {
     "name": "stdout",
     "output_type": "stream",
     "text": [
      "1000 events\n",
      "End reading\n"
     ]
    }
   ],
   "source": [
    "# file.lst_out(1000, [0], True, False, filename='lst_out.csv')\n",
    "file.lst_out(1000, [0], True, False, cuts=[0, 2], inc=[1, 1], filename='cut_lst_out.csv')"
   ]
  },
  {
   "cell_type": "code",
   "execution_count": 4,
   "metadata": {},
   "outputs": [],
   "source": [
    "csv_in = np.genfromtxt('cut_lst_out.csv', delimiter=',', skip_header=2)"
   ]
  },
  {
   "cell_type": "code",
   "execution_count": 5,
   "metadata": {},
   "outputs": [],
   "source": [
    "L = csv_in[...,0]\n",
    "S = csv_in[...,1]"
   ]
  },
  {
   "cell_type": "code",
   "execution_count": 6,
   "metadata": {},
   "outputs": [
    {
     "data": {
      "image/png": "[encoded data removed]",
      "text/plain": [
       "<Figure size 640x480 with 1 Axes>"
      ]
     },
     "metadata": {},
     "output_type": "display_data"
    }
   ],
   "source": [
    "plt.hist2d(L, S, [256,256], norm=colors.LogNorm(vmin=1))\n",
    "plt.show()"
   ]
  },
  {
   "cell_type": "code",
   "execution_count": 2,
   "metadata": {},
   "outputs": [
    {
     "name": "stdout",
     "output_type": "stream",
     "text": [
      "1.8332114219665527\n"
     ]
    }
   ],
   "source": [
    "t0 = time()\n",
    "for i in range(100):\n",
    "    ev = file.read_event()\n",
    "t1 = time()\n",
    "\n",
    "print(t1-t0)\n",
    "\n",
    "# 1.8332114219665527 <-- previous method"
   ]
  },
  {
   "cell_type": "code",
   "execution_count": 4,
   "metadata": {},
   "outputs": [
    {
     "name": "stdout",
     "output_type": "stream",
     "text": [
      "[   6016      31       0       3       0 2508037    1500    1500       0\n",
      "       0       0       0       0       0       0       0       0       0\n",
      "       0       0       0       0       0       0       0       0       0\n",
      "       0       0       0       0       0       0       0       0       0\n",
      "       0       0       0       0       0       0       0       0       0\n",
      "       0       0       0       0       0       0       0       0       0\n",
      "       0       0       0       0       0       0       0       0       0\n",
      "       0       0       0       0       0       0       0]\n"
     ]
    }
   ],
   "source": [
    "f = open('../STNG.dat', 'rb')\n",
    "header = f.read(72)\n",
    "pream = f.read(280)\n",
    "f.close()\n",
    "\n",
    "print(np.frombuffer(pream, dtype=np.uint32))"
   ]
  }
 ],
 "metadata": {
  "kernelspec": {
   "display_name": "base",
   "language": "python",
   "name": "python3"
  },
  "language_info": {
   "codemirror_mode": {
    "name": "ipython",
    "version": 3
   },
   "file_extension": ".py",
   "mimetype": "text/x-python",
   "name": "python",
   "nbconvert_exporter": "python",
   "pygments_lexer": "ipython3",
   "version": "3.9.15"
  },
  "orig_nbformat": 4,
  "vscode": {
   "interpreter": {
    "hash": "392d317fb9525d10d9582299775423e327aad078f9a1e9c1e0ded1cd8fd2d8a3"
   }
  }
 },
 "nbformat": 4,
 "nbformat_minor": 2
}
