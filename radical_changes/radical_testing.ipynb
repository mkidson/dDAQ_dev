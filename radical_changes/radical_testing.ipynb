{
 "cells": [
  {
   "cell_type": "code",
   "execution_count": 3,
   "metadata": {},
   "outputs": [
    {
     "name": "stdout",
     "output_type": "stream",
     "text": [
      "init complete\n"
     ]
    }
   ],
   "source": [
    "from read_dat import *\n",
    "from time import time\n",
    "import numpy as np\n",
    "\n",
    "\n",
    "file = read_dat('../STNG.dat')"
   ]
  },
  {
   "cell_type": "code",
   "execution_count": 2,
   "metadata": {},
   "outputs": [
    {
     "name": "stdout",
     "output_type": "stream",
     "text": [
      "1.8332114219665527\n"
     ]
    }
   ],
   "source": [
    "t0 = time()\n",
    "for i in range(100):\n",
    "    ev = file.read_event()\n",
    "t1 = time()\n",
    "\n",
    "print(t1-t0)\n",
    "\n",
    "# 1.8332114219665527 <-- previous method"
   ]
  },
  {
   "cell_type": "code",
   "execution_count": 4,
   "metadata": {},
   "outputs": [
    {
     "name": "stdout",
     "output_type": "stream",
     "text": [
      "[   6016      31       0       3       0 2508037    1500    1500       0\n",
      "       0       0       0       0       0       0       0       0       0\n",
      "       0       0       0       0       0       0       0       0       0\n",
      "       0       0       0       0       0       0       0       0       0\n",
      "       0       0       0       0       0       0       0       0       0\n",
      "       0       0       0       0       0       0       0       0       0\n",
      "       0       0       0       0       0       0       0       0       0\n",
      "       0       0       0       0       0       0       0]\n"
     ]
    }
   ],
   "source": [
    "f = open('../STNG.dat', 'rb')\n",
    "header = f.read(72)\n",
    "pream = f.read(280)\n",
    "f.close()\n",
    "\n",
    "print(np.frombuffer(pream, dtype=np.uint32))"
   ]
  }
 ],
 "metadata": {
  "kernelspec": {
   "display_name": "base",
   "language": "python",
   "name": "python3"
  },
  "language_info": {
   "codemirror_mode": {
    "name": "ipython",
    "version": 3
   },
   "file_extension": ".py",
   "mimetype": "text/x-python",
   "name": "python",
   "nbconvert_exporter": "python",
   "pygments_lexer": "ipython3",
   "version": "3.9.15"
  },
  "orig_nbformat": 4,
  "vscode": {
   "interpreter": {
    "hash": "392d317fb9525d10d9582299775423e327aad078f9a1e9c1e0ded1cd8fd2d8a3"
   }
  }
 },
 "nbformat": 4,
 "nbformat_minor": 2
}
